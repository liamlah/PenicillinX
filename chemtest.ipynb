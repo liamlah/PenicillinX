{
 "cells": [
  {
   "cell_type": "code",
   "id": "initial_id",
   "metadata": {
    "collapsed": true
   },
   "source": [
    "from rdkit import Chem\n",
    "from rdkit.Chem import rdmolfiles\n",
    "from rdkit.Chem.Draw import MolToFile, MolDrawOptions\n",
    "from rdkit.Chem.PandasTools import drawOptions"
   ],
   "outputs": [],
   "execution_count": null
  },
  {
   "metadata": {},
   "cell_type": "code",
   "source": [
    "import os\n",
    "print(os.getcwd())"
   ],
   "id": "7af1a085577b96ca",
   "outputs": [],
   "execution_count": null
  },
  {
   "metadata": {},
   "cell_type": "code",
   "source": [
    "m = Chem.MolFromSmiles('[H][C@]12SC(C)(C)[C@@H](N1C(=O)[C@H]2NC(=O)CC1=CC=CC=C1)C(O)=O')\n",
    "m"
   ],
   "id": "5b8b4bc8945df68c",
   "outputs": [],
   "execution_count": null
  },
  {
   "metadata": {},
   "cell_type": "code",
   "source": [
    "\n",
    "from rdkit.Chem import Draw\n",
    "penisvg = Draw.MolToImage(m, format='svg')\n",
    "penisvg\n",
    "\n"
   ],
   "id": "423ed7cec3d9b926",
   "outputs": [],
   "execution_count": null
  },
  {
   "metadata": {},
   "cell_type": "code",
   "source": "saved = Draw.MolsToGridImage(mols=Any,useSVG=True,)",
   "id": "961a133062621ef5",
   "outputs": [],
   "execution_count": null
  },
  {
   "metadata": {},
   "cell_type": "code",
   "source": [
    "from rdkit.Chem.Draw import rdMolDraw2D\n",
    "from rdkit.Chem import MolFromSmiles\n",
    "import os\n",
    "input_folder_path = \"www/smiles\"\n",
    "with open(input_file_path, 'r') as file:\n",
    "    input_smiles = file.read().strip()\n",
    "canvas_width_pixels = 300\n",
    "canvas_height_pixels  = 300\n",
    "# input_smiles = '[H][C@]12SC(C)(C)[C@@H](N1C(=O)[C@H]2NC(=O)CC1=CC=CC=C1)C(O)=O'\n",
    "mol = MolFromSmiles(input_smiles)\n",
    "mol = rdMolDraw2D.PrepareMolForDrawing(mol)\n",
    "drawer = rdMolDraw2D.MolDraw2DSVG(canvas_width_pixels,canvas_height_pixels)\n",
    "drawer.DrawMolecule(mol)\n",
    "drawer.FinishDrawing()\n",
    "svg = drawer.GetDrawingText()\n",
    "output_path = \"www/smiles\"\n",
    "with open('www/smiles/output.svg', 'w') as f:\n",
    "    f.write(svg)"
   ],
   "id": "cab8ebf07dfca3db",
   "outputs": [],
   "execution_count": null
  },
  {
   "metadata": {},
   "cell_type": "code",
   "source": [
    "from rdkit.Chem.Draw import rdMolDraw2D\n",
    "from rdkit.Chem import MolFromSmiles\n",
    "import os\n",
    "input_folder_path = \"www/smiles\"\n",
    "output_folder_path =\"www/smilesOP\"\n",
    "canvas_width_pixels = 300\n",
    "canvas_height_pixels  = 300\n",
    "for filename in os.listdir(input_folder_path):\n",
    "    if filename.endswith(\".smiles\"):\n",
    "        input_file_path = os.path.join(input_folder_path, filename)\n",
    "\n",
    "        with open(input_file_path, 'r') as file:\n",
    "            input_smiles = file.read().strip()\n",
    "            mol = MolFromSmiles(input_smiles)\n",
    "            if mol is None:\n",
    "                print(f\"could not parse the SMILES in: {filename}\")\n",
    "    mol = rdMolDraw2D.PrepareMolForDrawing(mol)\n",
    "    drawer = rdMolDraw2D.MolDraw2DSVG(canvas_width_pixels,canvas_height_pixels)\n",
    "\n",
    "    options = drawer.drawOptions()\n",
    "    options.clearBackground = True\n",
    "\n",
    "    drawer.DrawMolecule(mol)\n",
    "    drawer.FinishDrawing()\n",
    "    svg = drawer.GetDrawingText()\n",
    "    output_file_path = os.path.join(output_folder_path, filename.replace(\".smiles\", \".svg\"))\n",
    "    with open(output_file_path, 'w') as output_file:\n",
    "        output_file.write(svg)\n",
    "\n",
    "    print(f\"Generated: {output_file_path}\")\n"
   ],
   "id": "3c01cb727beb0c15",
   "outputs": [],
   "execution_count": null
  },
  {
   "metadata": {},
   "cell_type": "code",
   "source": [
    "from rdkit import Chem\n",
    "from rdkit.Chem import Draw\n",
    "from rdkit.Chem.Draw import IPythonConsole\n",
    "from rdkit.Chem import rdFMCS\n",
    "from rdkit.Chem.Draw import rdDepictor\n",
    "import os\n",
    "\n",
    "# Make depiction cleaner\n",
    "rdDepictor.SetPreferCoordGen(True)\n",
    "IPythonConsole.drawOptions.minFontSize = 15\n",
    "\n",
    "# File paths for the SMILES files\n",
    "input_folder_path = \"www/smiles\"\n",
    "cef_file = os.path.join(input_folder_path, \"Ceftriaxone.smiles\")\n",
    "pen_file = os.path.join(input_folder_path, \"PenicillinG.smiles\")\n",
    "\n",
    "# Read SMILES strings from the files\n",
    "with open(cef_file, 'r') as file1, open(pen_file, 'r') as file2:\n",
    "    cef_smiles = file1.read().strip()\n",
    "    pen_smiles = file2.read().strip()\n",
    "\n",
    "# Convert SMILES strings to RDKit molecule objects\n",
    "mol1 = Chem.MolFromSmiles(cef_smiles)\n",
    "mol2 = Chem.MolFromSmiles(pen_smiles)\n",
    "\n",
    "if mol1 is None or mol2 is None:\n",
    "    raise ValueError(\"One or both SMILES strings could not be parsed into valid molecules.\")\n",
    "\n",
    "# Visualize molecules in a grid\n",
    "Draw.MolsToGridImage([mol1, mol2])\n",
    "\n",
    "\n",
    "# Function to view similarities between the two molecules\n",
    "def view_similarity(mol1, mol2):\n",
    "    # Find the Maximum Common Substructure (MCS)\n",
    "    mcs = rdFMCS.FindMCS([mol1, mol2])\n",
    "    mcs_mol = Chem.MolFromSmarts(mcs.smartsString)\n",
    "\n",
    "    # Find the atom matches in both molecules for the MCS\n",
    "    match1 = mol1.GetSubstructMatch(mcs_mol)  # Atoms in mol1 that match the MCS\n",
    "    match2 = mol2.GetSubstructMatch(mcs_mol)  # Atoms in mol2 that match the MCS\n",
    "\n",
    "    # Return a grid image highlighting the similarities\n",
    "    return Draw.MolsToGridImage(\n",
    "        [mol1, mol2],\n",
    "        highlightAtomLists=[list(match1), list(match2)]  # Highlight the matching atoms only\n",
    "    )\n",
    "\n",
    "\n",
    "# View the similarities between Ceftriaxone and PenicillinG\n",
    "view_similarity(mol1, mol2)\n"
   ],
   "id": "1b95f39171ec01e3",
   "outputs": [],
   "execution_count": null
  },
  {
   "metadata": {
    "ExecuteTime": {
     "end_time": "2024-12-24T05:07:48.633760Z",
     "start_time": "2024-12-24T05:07:48.599392Z"
    }
   },
   "cell_type": "code",
   "source": [
    "from IPython.display import display\n",
    "from rdkit import Chem\n",
    "from rdkit.Chem import Draw\n",
    "from rdkit.Chem.Draw import IPythonConsole\n",
    "\n",
    "# Define refined SMARTS patterns\n",
    "smarts_patterns = {\n",
    "    \"Beta-Lactam Ring\": \"C1(C(N(*)C1*)=O)*\",  # beta-lactam ring definition from ChEBI\n",
    "    \"Penicillin R Group\": \"C=C=C\", # fake group to test ring match # C(C(=O)O)[C@@H](N) Penicillin side chain\n",
    "    \"Cephalosporin R1 Group\": \"C=C=C\" ,  # \"CS[C@@H]\" Cephalosporin R1 sulfur-containing chain\n",
    "    \"Cephalosporin R2 Group\": \"C=C=C\",  #  \"C3=CSC(N)=N3\" Cephalosporin R2 heterocyclic group\n",
    "}\n",
    "\n",
    "# Define highlight colors for each component\n",
    "highlight_colors = {\n",
    "    \"Beta-Lactam Ring\": (0, 0, 1),  # Blue for beta-lactam ring\n",
    "    \"R Group\": (1, 0, 0)  # Red for side chains (R groups)\n",
    "}\n",
    "\n",
    "# SMILES strings for beta-lactam antibiotics\n",
    "antibiotics_smiles = {\n",
    "    \"Ampicillin\": \"[H][C@@]1(NC(=O)[C@H](N)C2=CC=CC=C2)C(=O)N2[C@@H](C(O)=O)C(C)(C)S[C@]12[H]\",\n",
    "    \"Ceftriaxone\": \"[H][C@@]1(NC(=O)C(=N/OC)\\C2=CSC(N)=N2)C(=O)N2C(C(O)=O)=C(CSC3=NC(=O)C(O)=NN3C)CS[C@]12[H]\"\n",
    "}\n",
    "\n",
    "# Analyze and highlight SMARTS matches in molecules\n",
    "highlighted_images = []\n",
    "for name, smiles in antibiotics_smiles.items():\n",
    "    mol = Chem.MolFromSmiles(smiles)  # Parse molecule from SMILES\n",
    "    if not mol:\n",
    "        print(f\"Failed to parse molecule for {name}\")\n",
    "        continue\n",
    "\n",
    "    # Initialize lists for atoms and color mapping\n",
    "    highlight_atoms = []  # Collect atoms for highlighting\n",
    "    highlight_colors_atoms = {}  # Store color mapping for matched atoms\n",
    "\n",
    "    # Loop through the SMARTS patterns and find matches\n",
    "    for pattern_name, pattern_smarts in smarts_patterns.items():\n",
    "        smarts_mol = Chem.MolFromSmarts(pattern_smarts)\n",
    "        matches = mol.GetSubstructMatches(smarts_mol)  # Find SMARTS matches\n",
    "\n",
    "        # DEBUG: Print matches for each molecule\n",
    "        print(f\"Matches for {pattern_name} in {name}: {matches}\")\n",
    "\n",
    "        # Process matches\n",
    "        if matches:\n",
    "            for match in matches:\n",
    "                highlight_atoms.extend(match)\n",
    "                # Assign blue for beta-lactam, red for R groups\n",
    "                atom_color = (\n",
    "                    highlight_colors[\"Beta-Lactam Ring\"]\n",
    "                    if pattern_name == \"Beta-Lactam Ring\"\n",
    "                    else highlight_colors[\"R Group\"]\n",
    "                )\n",
    "                for atom_idx in match:\n",
    "                    highlight_colors_atoms[atom_idx] = atom_color\n",
    "\n",
    "    # Ensure consistent and clean highlighting (if no matches, skip)\n",
    "    if not highlight_atoms:\n",
    "        print(f\"No matches found for {name}.\")\n",
    "        continue\n",
    "\n",
    "    # Generate molecule image with highlights\n",
    "    img = Draw.MolToImage(\n",
    "        mol,\n",
    "        highlightAtoms=highlight_atoms,\n",
    "        highlightAtomColors=highlight_colors_atoms\n",
    "    )\n",
    "    highlighted_images.append((name, img))\n",
    "\n",
    "# Display the collected images\n",
    "for name, img in highlighted_images:\n",
    "    print(name)\n",
    "    display(img)\n"
   ],
   "id": "d320bb861d3b1325",
   "outputs": [
    {
     "name": "stdout",
     "output_type": "stream",
     "text": [
      "Matches for Beta-Lactam Ring in Ampicillin: ((0, 12, 14, 15, 23, 22, 13, 1),)\n",
      "Matches for Penicillin R Group in Ampicillin: ()\n",
      "Matches for Cephalosporin R1 Group in Ampicillin: ()\n",
      "Matches for Cephalosporin R2 Group in Ampicillin: ()\n",
      "Matches for Beta-Lactam Ring in Ceftriaxone: ((0, 14, 16, 17, 35, 34, 15, 1),)\n",
      "Matches for Penicillin R Group in Ceftriaxone: ()\n",
      "Matches for Cephalosporin R1 Group in Ceftriaxone: ()\n",
      "Matches for Cephalosporin R2 Group in Ceftriaxone: ()\n",
      "Ampicillin\n"
     ]
    },
    {
     "data": {
      "text/plain": [
       "<PIL.PngImagePlugin.PngImageFile image mode=RGB size=300x300>"
      ],
      "image/png": "[encoded data removed]",
      "image/jpeg": "[encoded data removed]"
     },
     "metadata": {},
     "output_type": "display_data"
    },
    {
     "name": "stdout",
     "output_type": "stream",
     "text": [
      "Ceftriaxone\n"
     ]
    },
    {
     "data": {
      "text/plain": [
       "<PIL.PngImagePlugin.PngImageFile image mode=RGB size=300x300>"
      ],
      "image/png": "[encoded data removed]",
      "image/jpeg": "[encoded data removed]"
     },
     "metadata": {},
     "output_type": "display_data"
    }
   ],
   "execution_count": 8
  },
  {
   "metadata": {
    "ExecuteTime": {
     "end_time": "2024-12-24T05:06:56.006141Z",
     "start_time": "2024-12-24T05:06:56.003103Z"
    }
   },
   "cell_type": "code",
   "source": "",
   "id": "b86c216a0ddc116d",
   "outputs": [],
   "execution_count": null
  },
  {
   "metadata": {},
   "cell_type": "code",
   "source": "",
   "id": "e97760a9bd70968a",
   "outputs": [],
   "execution_count": null
  }
 ],
 "metadata": {
  "kernelspec": {
   "display_name": "Python 3",
   "language": "python",
   "name": "python3"
  },
  "language_info": {
   "codemirror_mode": {
    "name": "ipython",
    "version": 2
   },
   "file_extension": ".py",
   "mimetype": "text/x-python",
   "name": "python",
   "nbconvert_exporter": "python",
   "pygments_lexer": "ipython2",
   "version": "2.7.6"
  }
 },
 "nbformat": 4,
 "nbformat_minor": 5
}
